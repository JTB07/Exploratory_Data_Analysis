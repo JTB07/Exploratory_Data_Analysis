{
 "cells": [
  {
   "cell_type": "markdown",
   "metadata": {},
   "source": [
    "AMAZON DELIVERY EDA PROJECT"
   ]
  },
  {
   "cell_type": "markdown",
   "metadata": {},
   "source": [
    "IMPORT ALL ALL LIBRARIES"
   ]
  },
  {
   "cell_type": "code",
   "execution_count": 2,
   "metadata": {},
   "outputs": [],
   "source": [
    "import pandas as pd\n",
    "import numpy as np \n",
    "import seaborn as sns\n",
    "import matplotlib.pyplot as plt\n",
    "\n",
    "\n",
    "\n",
    "\n"
   ]
  },
  {
   "cell_type": "markdown",
   "metadata": {},
   "source": [
    "Import the dataframe using read_csv()"
   ]
  },
  {
   "cell_type": "code",
   "execution_count": 3,
   "metadata": {},
   "outputs": [],
   "source": [
    "\n",
    "df = pd.read_csv(\"F:\\DATAANALYTICS\\PROJECT//amazon_delivery.csv\")"
   ]
  },
  {
   "cell_type": "markdown",
   "metadata": {},
   "source": [
    "Analyzing dataframe by taking a sample data to get an overview of the overroll dataframe.\n",
    "first 10 rows is taken using head() and last 10 rows using tail()"
   ]
  },
  {
   "cell_type": "code",
   "execution_count": 4,
   "metadata": {},
   "outputs": [
    {
     "name": "stdout",
     "output_type": "stream",
     "text": [
      "        Order_ID  Agent_Age  Agent_Rating  Store_Latitude  Store_Longitude  \\\n",
      "0  ialx566343618         37           4.9       22.745049        75.892471   \n",
      "1  akqg208421122         34           4.5       12.913041        77.683237   \n",
      "2  njpu434582536         23           4.4       12.914264        77.678400   \n",
      "3  rjto796129700         38           4.7       11.003669        76.976494   \n",
      "4  zguw716275638         32           4.6       12.972793        80.249982   \n",
      "5  fxuu788413734         22           4.8       17.431668        78.408321   \n",
      "6  njmo150975311         33           4.7       23.369746        85.339820   \n",
      "7  jvjc772545076         35           4.6       12.352058        76.606650   \n",
      "8  uaeb808891380         22           4.8       17.433809        78.386744   \n",
      "9  bgvc052754213         36           4.2       30.327968        78.046106   \n",
      "\n",
      "   Drop_Latitude  Drop_Longitude  Order_Date Order_Time Pickup_Time  \\\n",
      "0      22.765049       75.912471  2022-03-19   11:30:00    11:45:00   \n",
      "1      13.043041       77.813237  2022-03-25   19:45:00    19:50:00   \n",
      "2      12.924264       77.688400  2022-03-19   08:30:00    08:45:00   \n",
      "3      11.053669       77.026494  2022-04-05   18:00:00    18:10:00   \n",
      "4      13.012793       80.289982  2022-03-26   13:30:00    13:45:00   \n",
      "5      17.461668       78.438321  2022-03-11   21:20:00    21:30:00   \n",
      "6      23.479746       85.449820  2022-03-04   19:15:00    19:30:00   \n",
      "7      12.482058       76.736650  2022-03-14   17:25:00    17:30:00   \n",
      "8      17.563809       78.516744  2022-03-20   20:55:00    21:05:00   \n",
      "9      30.397968       78.116106  2022-02-12   21:55:00    22:10:00   \n",
      "\n",
      "      Weather  Traffic      Vehicle            Area  Delivery_Time  \\\n",
      "0       Sunny    High   motorcycle           Urban             120   \n",
      "1      Stormy     Jam      scooter   Metropolitian             165   \n",
      "2  Sandstorms     Low   motorcycle           Urban             130   \n",
      "3       Sunny  Medium   motorcycle   Metropolitian             105   \n",
      "4      Cloudy    High      scooter   Metropolitian             150   \n",
      "5      Cloudy     Jam   motorcycle           Urban             130   \n",
      "6         Fog     Jam      scooter   Metropolitian             200   \n",
      "7      Cloudy  Medium   motorcycle   Metropolitian             160   \n",
      "8      Stormy     Jam   motorcycle   Metropolitian             170   \n",
      "9         Fog     Jam   motorcycle   Metropolitian             230   \n",
      "\n",
      "      Category  \n",
      "0     Clothing  \n",
      "1  Electronics  \n",
      "2       Sports  \n",
      "3    Cosmetics  \n",
      "4         Toys  \n",
      "5         Toys  \n",
      "6         Toys  \n",
      "7       Snacks  \n",
      "8  Electronics  \n",
      "9         Toys  \n"
     ]
    }
   ],
   "source": [
    "print(df.head(10))"
   ]
  },
  {
   "cell_type": "code",
   "execution_count": 5,
   "metadata": {},
   "outputs": [
    {
     "name": "stdout",
     "output_type": "stream",
     "text": [
      "            Order_ID  Agent_Age  Agent_Rating  Store_Latitude  \\\n",
      "43729  llbw528617620         36           4.8       12.310972   \n",
      "43730  spgc082793916         37           4.8       13.022394   \n",
      "43731  cuqm879666070         30           4.2       26.469003   \n",
      "43732  uftb261665932         28           4.9       13.029198   \n",
      "43733  gcxb277393192         35           4.2       23.371292   \n",
      "43734  jlxf819993117         30           4.8       26.902328   \n",
      "43735  aevx342135787         21           4.6        0.000000   \n",
      "43736  xnek760674819         30           4.9       13.022394   \n",
      "43737  cynl434665991         20           4.7       11.001753   \n",
      "43738  nsyz997960170         23           4.9       23.351058   \n",
      "\n",
      "       Store_Longitude  Drop_Latitude  Drop_Longitude  Order_Date Order_Time  \\\n",
      "43729        76.659264      12.440972       76.789264  2022-03-18   21:10:00   \n",
      "43730        80.242439      13.042394       80.262439  2022-04-05   09:35:00   \n",
      "43731        80.316344      26.539003       80.386344  2022-02-14   18:10:00   \n",
      "43732        77.570997      13.059198       77.600997  2022-03-30   21:55:00   \n",
      "43733        85.327872      23.481292       85.437872  2022-03-08   21:45:00   \n",
      "43734        75.794257      26.912328       75.804257  2022-03-24   11:35:00   \n",
      "43735         0.000000       0.070000        0.070000  2022-02-16   19:55:00   \n",
      "43736        80.242439      13.052394       80.272439  2022-03-11   23:50:00   \n",
      "43737        76.986241      11.041753       77.026241  2022-03-07   13:35:00   \n",
      "43738        85.325731      23.431058       85.405731  2022-03-02   17:10:00   \n",
      "\n",
      "      Pickup_Time     Weather  Traffic      Vehicle            Area  \\\n",
      "43729    21:20:00       Sunny     Jam           van          Urban    \n",
      "43730    09:50:00  Sandstorms     Low           van  Metropolitian    \n",
      "43731    18:25:00      Cloudy  Medium   motorcycle   Metropolitian    \n",
      "43732    22:00:00  Sandstorms     Jam      scooter   Metropolitian    \n",
      "43733    21:55:00       Windy     Jam   motorcycle   Metropolitian    \n",
      "43734    11:45:00       Windy    High   motorcycle   Metropolitian    \n",
      "43735    20:10:00       Windy     Jam   motorcycle   Metropolitian    \n",
      "43736    00:05:00      Cloudy     Low      scooter   Metropolitian    \n",
      "43737    13:40:00      Cloudy    High   motorcycle   Metropolitian    \n",
      "43738    17:15:00         Fog  Medium      scooter   Metropolitian    \n",
      "\n",
      "       Delivery_Time   Category  \n",
      "43729            145     Sports  \n",
      "43730            100   Clothing  \n",
      "43731            210    Apparel  \n",
      "43732            145       Toys  \n",
      "43733            165     Sports  \n",
      "43734            160       Home  \n",
      "43735            180    Jewelry  \n",
      "43736             80       Home  \n",
      "43737            130    Kitchen  \n",
      "43738            180  Cosmetics  \n"
     ]
    }
   ],
   "source": [
    "print(df.tail(10))"
   ]
  },
  {
   "cell_type": "markdown",
   "metadata": {},
   "source": [
    "To take all informations  about dataframe use .info() .This info will will contain no. of columns,rows,its DT,column name etc"
   ]
  },
  {
   "cell_type": "code",
   "execution_count": 6,
   "metadata": {},
   "outputs": [
    {
     "name": "stdout",
     "output_type": "stream",
     "text": [
      "<class 'pandas.core.frame.DataFrame'>\n",
      "RangeIndex: 43739 entries, 0 to 43738\n",
      "Data columns (total 16 columns):\n",
      " #   Column           Non-Null Count  Dtype  \n",
      "---  ------           --------------  -----  \n",
      " 0   Order_ID         43739 non-null  object \n",
      " 1   Agent_Age        43739 non-null  int64  \n",
      " 2   Agent_Rating     43685 non-null  float64\n",
      " 3   Store_Latitude   43739 non-null  float64\n",
      " 4   Store_Longitude  43739 non-null  float64\n",
      " 5   Drop_Latitude    43739 non-null  float64\n",
      " 6   Drop_Longitude   43739 non-null  float64\n",
      " 7   Order_Date       43739 non-null  object \n",
      " 8   Order_Time       43739 non-null  object \n",
      " 9   Pickup_Time      43739 non-null  object \n",
      " 10  Weather          43648 non-null  object \n",
      " 11  Traffic          43739 non-null  object \n",
      " 12  Vehicle          43739 non-null  object \n",
      " 13  Area             43739 non-null  object \n",
      " 14  Delivery_Time    43739 non-null  int64  \n",
      " 15  Category         43739 non-null  object \n",
      "dtypes: float64(5), int64(2), object(9)\n",
      "memory usage: 5.3+ MB\n",
      "None\n"
     ]
    }
   ],
   "source": [
    "print(df.info())"
   ]
  },
  {
   "cell_type": "markdown",
   "metadata": {},
   "source": [
    "Data Cleaning"
   ]
  },
  {
   "cell_type": "markdown",
   "metadata": {},
   "source": [
    "To see if there is any null cells in the dataframe use .isna()"
   ]
  },
  {
   "cell_type": "code",
   "execution_count": 7,
   "metadata": {},
   "outputs": [
    {
     "name": "stdout",
     "output_type": "stream",
     "text": [
      "Order_ID            0\n",
      "Agent_Age           0\n",
      "Agent_Rating       54\n",
      "Store_Latitude      0\n",
      "Store_Longitude     0\n",
      "Drop_Latitude       0\n",
      "Drop_Longitude      0\n",
      "Order_Date          0\n",
      "Order_Time          0\n",
      "Pickup_Time         0\n",
      "Weather            91\n",
      "Traffic             0\n",
      "Vehicle             0\n",
      "Area                0\n",
      "Delivery_Time       0\n",
      "Category            0\n",
      "dtype: int64\n"
     ]
    }
   ],
   "source": [
    "print(df.isna().sum())"
   ]
  },
  {
   "cell_type": "markdown",
   "metadata": {},
   "source": [
    "To drop all null cells use dropna()"
   ]
  },
  {
   "cell_type": "code",
   "execution_count": 8,
   "metadata": {},
   "outputs": [],
   "source": [
    "df = df.dropna()"
   ]
  },
  {
   "cell_type": "code",
   "execution_count": 9,
   "metadata": {},
   "outputs": [
    {
     "name": "stdout",
     "output_type": "stream",
     "text": [
      "Order_ID           0\n",
      "Agent_Age          0\n",
      "Agent_Rating       0\n",
      "Store_Latitude     0\n",
      "Store_Longitude    0\n",
      "Drop_Latitude      0\n",
      "Drop_Longitude     0\n",
      "Order_Date         0\n",
      "Order_Time         0\n",
      "Pickup_Time        0\n",
      "Weather            0\n",
      "Traffic            0\n",
      "Vehicle            0\n",
      "Area               0\n",
      "Delivery_Time      0\n",
      "Category           0\n",
      "dtype: int64\n"
     ]
    }
   ],
   "source": [
    "print(df.isna().sum())"
   ]
  },
  {
   "cell_type": "markdown",
   "metadata": {},
   "source": [
    "Changing Datatype of the column\n"
   ]
  },
  {
   "cell_type": "code",
   "execution_count": 22,
   "metadata": {},
   "outputs": [],
   "source": [
    "df['Order_Date'] = pd.to_datetime(df['Order_Date'])\n",
    "df['Order_Time'] = pd.to_datetime(df['Order_Time'])\n",
    "df['Pickup_Time'] = pd.to_datetime(df['Pickup_Time'])\n"
   ]
  },
  {
   "cell_type": "code",
   "execution_count": 23,
   "metadata": {},
   "outputs": [
    {
     "name": "stdout",
     "output_type": "stream",
     "text": [
      "<class 'pandas.core.frame.DataFrame'>\n",
      "Index: 43594 entries, 0 to 43738\n",
      "Data columns (total 16 columns):\n",
      " #   Column           Non-Null Count  Dtype         \n",
      "---  ------           --------------  -----         \n",
      " 0   Order_ID         43594 non-null  object        \n",
      " 1   Agent_Age        43594 non-null  int64         \n",
      " 2   Agent_Rating     43594 non-null  float64       \n",
      " 3   Store_Latitude   43594 non-null  float64       \n",
      " 4   Store_Longitude  43594 non-null  float64       \n",
      " 5   Drop_Latitude    43594 non-null  float64       \n",
      " 6   Drop_Longitude   43594 non-null  float64       \n",
      " 7   Order_Date       43594 non-null  datetime64[ns]\n",
      " 8   Order_Time       43594 non-null  datetime64[ns]\n",
      " 9   Pickup_Time      43594 non-null  datetime64[ns]\n",
      " 10  Weather          43594 non-null  object        \n",
      " 11  Traffic          43594 non-null  object        \n",
      " 12  Vehicle          43594 non-null  object        \n",
      " 13  Area             43594 non-null  object        \n",
      " 14  Delivery_Time    43594 non-null  int64         \n",
      " 15  Category         43594 non-null  object        \n",
      "dtypes: datetime64[ns](3), float64(5), int64(2), object(6)\n",
      "memory usage: 5.7+ MB\n"
     ]
    }
   ],
   "source": [
    "df.info()"
   ]
  },
  {
   "cell_type": "code",
   "execution_count": 29,
   "metadata": {},
   "outputs": [
    {
     "data": {
      "image/png": "[encoded data removed]",
      "text/plain": [
       "<Figure size 640x480 with 1 Axes>"
      ]
     },
     "metadata": {},
     "output_type": "display_data"
    }
   ],
   "source": [
    "sns.boxplot(df)\n",
    "plt.xticks(rotation=90)\n",
    "plt.show()"
   ]
  },
  {
   "cell_type": "code",
   "execution_count": 1,
   "metadata": {},
   "outputs": [
    {
     "ename": "NameError",
     "evalue": "name 'df' is not defined",
     "output_type": "error",
     "traceback": [
      "\u001b[1;31m---------------------------------------------------------------------------\u001b[0m",
      "\u001b[1;31mNameError\u001b[0m                                 Traceback (most recent call last)",
      "Cell \u001b[1;32mIn[1], line 1\u001b[0m\n\u001b[1;32m----> 1\u001b[0m df\u001b[38;5;241m=\u001b[39m\u001b[43mdf\u001b[49m\u001b[38;5;241m.\u001b[39mselect_dtypes(exclude\u001b[38;5;241m=\u001b[39m[\u001b[38;5;124m'\u001b[39m\u001b[38;5;124mobject\u001b[39m\u001b[38;5;124m'\u001b[39m])\n\u001b[0;32m      2\u001b[0m \u001b[38;5;28;01mfor\u001b[39;00m column \u001b[38;5;129;01min\u001b[39;00m df:\n\u001b[0;32m      3\u001b[0m     plt\u001b[38;5;241m.\u001b[39mfigure(figsize\u001b[38;5;241m=\u001b[39m(\u001b[38;5;241m17\u001b[39m,\u001b[38;5;241m1\u001b[39m))\n",
      "\u001b[1;31mNameError\u001b[0m: name 'df' is not defined"
     ]
    }
   ],
   "source": [
    "df=df.select_dtypes(exclude=['object'])\n",
    "for column in df:\n",
    "    plt.figure(figsize=(17,1))\n",
    "    sns.boxplot(data=df,x=column)"
   ]
  },
  {
   "cell_type": "code",
   "execution_count": 34,
   "metadata": {},
   "outputs": [
    {
     "name": "stdout",
     "output_type": "stream",
     "text": [
      "            Order_ID  Agent_Age  Agent_Rating  Store_Latitude  \\\n",
      "0      ialx566343618         37           4.9       22.745049   \n",
      "1      akqg208421122         34           4.5       12.913041   \n",
      "2      njpu434582536         23           4.4       12.914264   \n",
      "3      rjto796129700         38           4.7       11.003669   \n",
      "4      zguw716275638         32           4.6       12.972793   \n",
      "...              ...        ...           ...             ...   \n",
      "43734  jlxf819993117         30           4.8       26.902328   \n",
      "43735  aevx342135787         21           4.6        0.000000   \n",
      "43736  xnek760674819         30           4.9       13.022394   \n",
      "43737  cynl434665991         20           4.7       11.001753   \n",
      "43738  nsyz997960170         23           4.9       23.351058   \n",
      "\n",
      "       Store_Longitude  Drop_Latitude  Drop_Longitude Order_Date  \\\n",
      "0            75.892471      22.765049       75.912471 2022-03-19   \n",
      "1            77.683237      13.043041       77.813237 2022-03-25   \n",
      "2            77.678400      12.924264       77.688400 2022-03-19   \n",
      "3            76.976494      11.053669       77.026494 2022-04-05   \n",
      "4            80.249982      13.012793       80.289982 2022-03-26   \n",
      "...                ...            ...             ...        ...   \n",
      "43734        75.794257      26.912328       75.804257 2022-03-24   \n",
      "43735         0.000000       0.070000        0.070000 2022-02-16   \n",
      "43736        80.242439      13.052394       80.272439 2022-03-11   \n",
      "43737        76.986241      11.041753       77.026241 2022-03-07   \n",
      "43738        85.325731      23.431058       85.405731 2022-03-02   \n",
      "\n",
      "               Order_Time         Pickup_Time     Weather  Traffic  \\\n",
      "0     2024-11-21 11:30:00 2024-11-21 11:45:00       Sunny    High    \n",
      "1     2024-11-21 19:45:00 2024-11-21 19:50:00      Stormy     Jam    \n",
      "2     2024-11-21 08:30:00 2024-11-21 08:45:00  Sandstorms     Low    \n",
      "3     2024-11-21 18:00:00 2024-11-21 18:10:00       Sunny  Medium    \n",
      "4     2024-11-21 13:30:00 2024-11-21 13:45:00      Cloudy    High    \n",
      "...                   ...                 ...         ...      ...   \n",
      "43734 2024-11-21 11:35:00 2024-11-21 11:45:00       Windy    High    \n",
      "43735 2024-11-21 19:55:00 2024-11-21 20:10:00       Windy     Jam    \n",
      "43736 2024-11-21 23:50:00 2024-11-21 00:05:00      Cloudy     Low    \n",
      "43737 2024-11-21 13:35:00 2024-11-21 13:40:00      Cloudy    High    \n",
      "43738 2024-11-21 17:10:00 2024-11-21 17:15:00         Fog  Medium    \n",
      "\n",
      "           Vehicle            Area  Delivery_Time     Category   z_score  \n",
      "0      motorcycle           Urban             120     Clothing -0.094652  \n",
      "1         scooter   Metropolitian             165  Electronics  0.771699  \n",
      "2      motorcycle           Urban             130       Sports  0.097870  \n",
      "3      motorcycle   Metropolitian             105    Cosmetics -0.383436  \n",
      "4         scooter   Metropolitian             150         Toys  0.482915  \n",
      "...            ...             ...            ...          ...       ...  \n",
      "43734  motorcycle   Metropolitian             160         Home  0.675438  \n",
      "43735  motorcycle   Metropolitian             180      Jewelry  1.060483  \n",
      "43736     scooter   Metropolitian              80         Home -0.864742  \n",
      "43737  motorcycle   Metropolitian             130      Kitchen  0.097870  \n",
      "43738     scooter   Metropolitian             180    Cosmetics  1.060483  \n",
      "\n",
      "[41307 rows x 17 columns]\n"
     ]
    }
   ],
   "source": [
    "\n",
    "df['z_score'] = (df['Delivery_Time'] - df['Delivery_Time'].mean()) / df['Delivery_Time'].std()\n",
    "threshold = 2\n",
    "df_no_outliers = df[df['z_score'].abs() <= threshold]\n",
    "print(df_no_outliers)"
   ]
  },
  {
   "cell_type": "code",
   "execution_count": 35,
   "metadata": {},
   "outputs": [
    {
     "data": {
      "image/png": "[encoded data removed]",
      "text/plain": [
       "<Figure size 640x480 with 1 Axes>"
      ]
     },
     "metadata": {},
     "output_type": "display_data"
    }
   ],
   "source": [
    "sns.boxplot(df)\n",
    "plt.xticks(rotation=90)\n",
    "plt.show()"
   ]
  },
  {
   "cell_type": "code",
   "execution_count": 26,
   "metadata": {},
   "outputs": [
    {
     "ename": "KeyError",
     "evalue": "'z_score'",
     "output_type": "error",
     "traceback": [
      "\u001b[1;31m---------------------------------------------------------------------------\u001b[0m",
      "\u001b[1;31mKeyError\u001b[0m                                  Traceback (most recent call last)",
      "File \u001b[1;32mc:\\Users\\LENOVO\\AppData\\Local\\Programs\\Python\\Python310\\lib\\site-packages\\pandas\\core\\indexes\\base.py:3805\u001b[0m, in \u001b[0;36mIndex.get_loc\u001b[1;34m(self, key)\u001b[0m\n\u001b[0;32m   3804\u001b[0m \u001b[38;5;28;01mtry\u001b[39;00m:\n\u001b[1;32m-> 3805\u001b[0m     \u001b[38;5;28;01mreturn\u001b[39;00m \u001b[38;5;28;43mself\u001b[39;49m\u001b[38;5;241;43m.\u001b[39;49m\u001b[43m_engine\u001b[49m\u001b[38;5;241;43m.\u001b[39;49m\u001b[43mget_loc\u001b[49m\u001b[43m(\u001b[49m\u001b[43mcasted_key\u001b[49m\u001b[43m)\u001b[49m\n\u001b[0;32m   3806\u001b[0m \u001b[38;5;28;01mexcept\u001b[39;00m \u001b[38;5;167;01mKeyError\u001b[39;00m \u001b[38;5;28;01mas\u001b[39;00m err:\n",
      "File \u001b[1;32mindex.pyx:167\u001b[0m, in \u001b[0;36mpandas._libs.index.IndexEngine.get_loc\u001b[1;34m()\u001b[0m\n",
      "File \u001b[1;32mindex.pyx:196\u001b[0m, in \u001b[0;36mpandas._libs.index.IndexEngine.get_loc\u001b[1;34m()\u001b[0m\n",
      "File \u001b[1;32mpandas\\\\_libs\\\\hashtable_class_helper.pxi:7081\u001b[0m, in \u001b[0;36mpandas._libs.hashtable.PyObjectHashTable.get_item\u001b[1;34m()\u001b[0m\n",
      "File \u001b[1;32mpandas\\\\_libs\\\\hashtable_class_helper.pxi:7089\u001b[0m, in \u001b[0;36mpandas._libs.hashtable.PyObjectHashTable.get_item\u001b[1;34m()\u001b[0m\n",
      "\u001b[1;31mKeyError\u001b[0m: 'z_score'",
      "\nThe above exception was the direct cause of the following exception:\n",
      "\u001b[1;31mKeyError\u001b[0m                                  Traceback (most recent call last)",
      "Cell \u001b[1;32mIn[26], line 5\u001b[0m\n\u001b[0;32m      2\u001b[0m threshold \u001b[38;5;241m=\u001b[39m \u001b[38;5;241m3\u001b[39m\n\u001b[0;32m      4\u001b[0m \u001b[38;5;66;03m# Remove rows where the absolute Z-score is greater than the threshold\u001b[39;00m\n\u001b[1;32m----> 5\u001b[0m df_no_outliers \u001b[38;5;241m=\u001b[39m df[\u001b[43mdf\u001b[49m\u001b[43m[\u001b[49m\u001b[38;5;124;43m'\u001b[39;49m\u001b[38;5;124;43mz_score\u001b[39;49m\u001b[38;5;124;43m'\u001b[39;49m\u001b[43m]\u001b[49m\u001b[38;5;241m.\u001b[39mabs() \u001b[38;5;241m<\u001b[39m\u001b[38;5;241m=\u001b[39m threshold]\n\u001b[0;32m      7\u001b[0m \u001b[38;5;66;03m# Drop the Z-score column if it's no longer needed\u001b[39;00m\n\u001b[0;32m      8\u001b[0m df_no_outliers \u001b[38;5;241m=\u001b[39m df_no_outliers\u001b[38;5;241m.\u001b[39mdrop(columns\u001b[38;5;241m=\u001b[39m[\u001b[38;5;124m'\u001b[39m\u001b[38;5;124mz_score\u001b[39m\u001b[38;5;124m'\u001b[39m])\n",
      "File \u001b[1;32mc:\\Users\\LENOVO\\AppData\\Local\\Programs\\Python\\Python310\\lib\\site-packages\\pandas\\core\\frame.py:4102\u001b[0m, in \u001b[0;36mDataFrame.__getitem__\u001b[1;34m(self, key)\u001b[0m\n\u001b[0;32m   4100\u001b[0m \u001b[38;5;28;01mif\u001b[39;00m \u001b[38;5;28mself\u001b[39m\u001b[38;5;241m.\u001b[39mcolumns\u001b[38;5;241m.\u001b[39mnlevels \u001b[38;5;241m>\u001b[39m \u001b[38;5;241m1\u001b[39m:\n\u001b[0;32m   4101\u001b[0m     \u001b[38;5;28;01mreturn\u001b[39;00m \u001b[38;5;28mself\u001b[39m\u001b[38;5;241m.\u001b[39m_getitem_multilevel(key)\n\u001b[1;32m-> 4102\u001b[0m indexer \u001b[38;5;241m=\u001b[39m \u001b[38;5;28;43mself\u001b[39;49m\u001b[38;5;241;43m.\u001b[39;49m\u001b[43mcolumns\u001b[49m\u001b[38;5;241;43m.\u001b[39;49m\u001b[43mget_loc\u001b[49m\u001b[43m(\u001b[49m\u001b[43mkey\u001b[49m\u001b[43m)\u001b[49m\n\u001b[0;32m   4103\u001b[0m \u001b[38;5;28;01mif\u001b[39;00m is_integer(indexer):\n\u001b[0;32m   4104\u001b[0m     indexer \u001b[38;5;241m=\u001b[39m [indexer]\n",
      "File \u001b[1;32mc:\\Users\\LENOVO\\AppData\\Local\\Programs\\Python\\Python310\\lib\\site-packages\\pandas\\core\\indexes\\base.py:3812\u001b[0m, in \u001b[0;36mIndex.get_loc\u001b[1;34m(self, key)\u001b[0m\n\u001b[0;32m   3807\u001b[0m     \u001b[38;5;28;01mif\u001b[39;00m \u001b[38;5;28misinstance\u001b[39m(casted_key, \u001b[38;5;28mslice\u001b[39m) \u001b[38;5;129;01mor\u001b[39;00m (\n\u001b[0;32m   3808\u001b[0m         \u001b[38;5;28misinstance\u001b[39m(casted_key, abc\u001b[38;5;241m.\u001b[39mIterable)\n\u001b[0;32m   3809\u001b[0m         \u001b[38;5;129;01mand\u001b[39;00m \u001b[38;5;28many\u001b[39m(\u001b[38;5;28misinstance\u001b[39m(x, \u001b[38;5;28mslice\u001b[39m) \u001b[38;5;28;01mfor\u001b[39;00m x \u001b[38;5;129;01min\u001b[39;00m casted_key)\n\u001b[0;32m   3810\u001b[0m     ):\n\u001b[0;32m   3811\u001b[0m         \u001b[38;5;28;01mraise\u001b[39;00m InvalidIndexError(key)\n\u001b[1;32m-> 3812\u001b[0m     \u001b[38;5;28;01mraise\u001b[39;00m \u001b[38;5;167;01mKeyError\u001b[39;00m(key) \u001b[38;5;28;01mfrom\u001b[39;00m \u001b[38;5;21;01merr\u001b[39;00m\n\u001b[0;32m   3813\u001b[0m \u001b[38;5;28;01mexcept\u001b[39;00m \u001b[38;5;167;01mTypeError\u001b[39;00m:\n\u001b[0;32m   3814\u001b[0m     \u001b[38;5;66;03m# If we have a listlike key, _check_indexing_error will raise\u001b[39;00m\n\u001b[0;32m   3815\u001b[0m     \u001b[38;5;66;03m#  InvalidIndexError. Otherwise we fall through and re-raise\u001b[39;00m\n\u001b[0;32m   3816\u001b[0m     \u001b[38;5;66;03m#  the TypeError.\u001b[39;00m\n\u001b[0;32m   3817\u001b[0m     \u001b[38;5;28mself\u001b[39m\u001b[38;5;241m.\u001b[39m_check_indexing_error(key)\n",
      "\u001b[1;31mKeyError\u001b[0m: 'z_score'"
     ]
    }
   ],
   "source": [
    "# Define threshold for identifying outliers\n",
    "threshold = 3\n",
    "\n",
    "# Remove rows where the absolute Z-score is greater than the threshold\n",
    "df_no_outliers = df[df['z_score'].abs() <= threshold]\n",
    "\n",
    "# Drop the Z-score column if it's no longer needed\n",
    "df_no_outliers = df_no_outliers.drop(columns=['z_score'])\n",
    "\n",
    "# Display the dataset without outliers\n",
    "print(df_no_outliers)"
   ]
  },
  {
   "cell_type": "code",
   "execution_count": null,
   "metadata": {},
   "outputs": [],
   "source": []
  },
  {
   "cell_type": "code",
   "execution_count": null,
   "metadata": {},
   "outputs": [],
   "source": []
  },
  {
   "cell_type": "code",
   "execution_count": null,
   "metadata": {},
   "outputs": [],
   "source": []
  },
  {
   "cell_type": "code",
   "execution_count": null,
   "metadata": {},
   "outputs": [],
   "source": []
  },
  {
   "cell_type": "code",
   "execution_count": null,
   "metadata": {},
   "outputs": [],
   "source": []
  },
  {
   "cell_type": "code",
   "execution_count": null,
   "metadata": {},
   "outputs": [],
   "source": []
  },
  {
   "cell_type": "code",
   "execution_count": null,
   "metadata": {},
   "outputs": [],
   "source": []
  }
 ],
 "metadata": {
  "kernelspec": {
   "display_name": "Python 3",
   "language": "python",
   "name": "python3"
  },
  "language_info": {
   "codemirror_mode": {
    "name": "ipython",
    "version": 3
   },
   "file_extension": ".py",
   "mimetype": "text/x-python",
   "name": "python",
   "nbconvert_exporter": "python",
   "pygments_lexer": "ipython3",
   "version": "3.10.11"
  }
 },
 "nbformat": 4,
 "nbformat_minor": 2
}
